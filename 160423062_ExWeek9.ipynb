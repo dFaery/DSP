{
 "cells": [
  {
   "cell_type": "code",
   "execution_count": 1,
   "id": "7a95b92f",
   "metadata": {},
   "outputs": [],
   "source": [
    "import numpy as np"
   ]
  },
  {
   "cell_type": "markdown",
   "id": "2d3062f2",
   "metadata": {},
   "source": [
    "EXERCISE 1"
   ]
  },
  {
   "cell_type": "code",
   "execution_count": 2,
   "id": "7b7b629c",
   "metadata": {},
   "outputs": [
    {
     "name": "stdout",
     "output_type": "stream",
     "text": [
      "Student Exam Scores:\n",
      "[[76 85 82]\n",
      " [ 5  4 96]\n",
      " [ 7 91 24]] \n",
      "\n",
      "Contents of weightOfAssesment array for the first time: [[3 5 8]]\n",
      "Contents of weightOfAssesment array after being multiplied: [[30 50 80]]\n",
      "Contents of weightOfAssesment array for the last time: [[0.19 0.31 0.5 ]]\n",
      "\n"
     ]
    }
   ],
   "source": [
    "#INPUT VARIABLES\n",
    "#num_of_student == m\n",
    "#num_of_assesment == n\n",
    "num_of_student = int(input(\"Input number of student: \"))\n",
    "num_of_assesment = int(input(\"Input number of assesment: \"))\n",
    "\n",
    "#GENERATED ARRAY SCORE\n",
    "arrScore = np.random.randint(0, 101, size=(num_of_student, num_of_assesment))\n",
    "print(\"Student Exam Scores:\")\n",
    "print(arrScore, \"\\n\")\n",
    "\n",
    "#GENERATED ARRAY Weight of Assesment\n",
    "weightOfAssesment = np.random.randint(0,10, size=(1, num_of_assesment))\n",
    "print(\"Contents of weightOfAssesment array for the first time:\",weightOfAssesment)\n",
    "weightOfAssesment = weightOfAssesment*10\n",
    "print(\"Contents of weightOfAssesment array after being multiplied:\",weightOfAssesment)\n",
    "\n",
    "#TOTAL WEIGHT OF ASSESMENT ELEMENT IS 1\n",
    "totalWoS = np.sum(weightOfAssesment)\n",
    "\n",
    "#NORMALIZE WEIGHT OF ASSESMENT\n",
    "normalizeWoS = weightOfAssesment/totalWoS\n",
    "arrHasil = np.round(normalizeWoS, decimals=2)\n",
    "print(\"Contents of weightOfAssesment array for the last time:\",arrHasil)\n",
    "print()\n"
   ]
  },
  {
   "cell_type": "code",
   "execution_count": 3,
   "id": "e8dbc3f4",
   "metadata": {},
   "outputs": [
    {
     "name": "stdout",
     "output_type": "stream",
     "text": [
      "Final score:\n",
      " [[14.44 26.35 41.  ]\n",
      " [ 0.95  1.24 48.  ]\n",
      " [ 1.33 28.21 12.  ]]\n",
      "Final score after reshape:\n",
      " [[14.44]\n",
      " [26.35]\n",
      " [41.  ]\n",
      " [ 0.95]\n",
      " [ 1.24]\n",
      " [48.  ]\n",
      " [ 1.33]\n",
      " [28.21]\n",
      " [12.  ]]\n",
      "Array size after reshape: (9, 1)\n"
     ]
    }
   ],
   "source": [
    "#CALCULATED THE FINAL SCORE\n",
    "finalScore = np.array(arrHasil*arrScore)\n",
    "print(\"Final score:\\n\",finalScore)\n",
    "finalScoreReshape = finalScore.reshape(-1,1)\n",
    "print(\"Final score after reshape:\\n\",finalScoreReshape)\n",
    "print(\"Array size after reshape:\",finalScoreReshape.shape)"
   ]
  },
  {
   "cell_type": "code",
   "execution_count": 4,
   "id": "05b6133f",
   "metadata": {},
   "outputs": [
    {
     "name": "stdout",
     "output_type": "stream",
     "text": [
      "List of student score: \n",
      "[[76.   85.   82.   14.44 26.35 41.  ]\n",
      " [ 5.    4.   96.    0.95  1.24 48.  ]\n",
      " [ 7.   91.   24.    1.33 28.21 12.  ]]\n",
      "Average score: [29.33333333 60.         67.33333333]\n",
      "Number of students who scored < 55: 4\n"
     ]
    }
   ],
   "source": [
    "#CONCATENATE\n",
    "studentScore = np.concatenate([arrScore, finalScore], axis=1)\n",
    "print(\"List of student score: \")\n",
    "print(studentScore)\n",
    "\n",
    "#AVERAGE SCORE\n",
    "averageScore = np.average(arrScore, axis=0)\n",
    "print(\"Average score:\",averageScore)\n",
    "\n",
    "#NUMBER OF STUDENTS WHO SCORED <55\n",
    "scoreUnder55 = np.sum(arrScore < 55)\n",
    "print(\"Number of students who scored < 55:\",scoreUnder55)"
   ]
  },
  {
   "cell_type": "code",
   "execution_count": 5,
   "id": "401472ae",
   "metadata": {},
   "outputs": [
    {
     "name": "stdout",
     "output_type": "stream",
     "text": [
      "List of student score in descending order:\n",
      " [[76.   91.   96.   14.44 28.21 48.  ]\n",
      " [ 7.   85.   82.    1.33 26.35 41.  ]\n",
      " [ 5.    4.   24.    0.95  1.24 12.  ]]\n"
     ]
    }
   ],
   "source": [
    "sortDesc = np.sort(studentScore, axis=0)[::-1, ::]\n",
    "print(\"List of student score in descending order:\\n\",sortDesc)"
   ]
  }
 ],
 "metadata": {
  "kernelspec": {
   "display_name": "base",
   "language": "python",
   "name": "python3"
  },
  "language_info": {
   "codemirror_mode": {
    "name": "ipython",
    "version": 3
   },
   "file_extension": ".py",
   "mimetype": "text/x-python",
   "name": "python",
   "nbconvert_exporter": "python",
   "pygments_lexer": "ipython3",
   "version": "3.12.7"
  }
 },
 "nbformat": 4,
 "nbformat_minor": 5
}
