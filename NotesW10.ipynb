{
 "cells": [
  {
   "cell_type": "markdown",
   "id": "e68d73df",
   "metadata": {},
   "source": [
    "WEEK 10: DATA MANIPULATION WITH PANDAS\n",
    "1. 3 Fundamental Pandas: Series, DataFrame, dan Index"
   ]
  },
  {
   "cell_type": "code",
   "execution_count": 147,
   "id": "84bcec49",
   "metadata": {},
   "outputs": [
    {
     "name": "stdout",
     "output_type": "stream",
     "text": [
      "['ArrowDtype', 'BooleanDtype', 'Categorical', 'CategoricalDtype', 'CategoricalIndex', 'DataFrame', 'DateOffset', 'DatetimeIndex', 'DatetimeTZDtype', 'ExcelFile', 'ExcelWriter', 'Flags', 'Float32Dtype', 'Float64Dtype', 'Grouper', 'HDFStore', 'Index', 'IndexSlice', 'Int16Dtype', 'Int32Dtype', 'Int64Dtype', 'Int8Dtype', 'Interval', 'IntervalDtype', 'IntervalIndex', 'MultiIndex', 'NA', 'NaT', 'NamedAgg', 'Period', 'PeriodDtype', 'PeriodIndex', 'RangeIndex', 'Series', 'SparseDtype', 'StringDtype', 'Timedelta', 'TimedeltaIndex', 'Timestamp', 'UInt16Dtype', 'UInt32Dtype', 'UInt64Dtype', 'UInt8Dtype', '__all__', '__builtins__', '__cached__', '__doc__', '__docformat__', '__file__', '__git_version__', '__loader__', '__name__', '__package__', '__path__', '__spec__', '__version__', '_built_with_meson', '_config', '_is_numpy_dev', '_libs', '_pandas_datetime_CAPI', '_pandas_parser_CAPI', '_testing', '_typing', '_version_meson', 'annotations', 'api', 'array', 'arrays', 'bdate_range', 'compat', 'concat', 'core', 'crosstab', 'cut', 'date_range', 'describe_option', 'errors', 'eval', 'factorize', 'from_dummies', 'get_dummies', 'get_option', 'infer_freq', 'interval_range', 'io', 'isna', 'isnull', 'json_normalize', 'lreshape', 'melt', 'merge', 'merge_asof', 'merge_ordered', 'notna', 'notnull', 'offsets', 'option_context', 'options', 'pandas', 'period_range', 'pivot', 'pivot_table', 'plotting', 'qcut', 'read_clipboard', 'read_csv', 'read_excel', 'read_feather', 'read_fwf', 'read_gbq', 'read_hdf', 'read_html', 'read_json', 'read_orc', 'read_parquet', 'read_pickle', 'read_sas', 'read_spss', 'read_sql', 'read_sql_query', 'read_sql_table', 'read_stata', 'read_table', 'read_xml', 'reset_option', 'set_eng_float_format', 'set_option', 'show_versions', 'test', 'testing', 'timedelta_range', 'to_datetime', 'to_numeric', 'to_pickle', 'to_timedelta', 'tseries', 'unique', 'util', 'value_counts', 'wide_to_long']\n"
     ]
    }
   ],
   "source": [
    "import pandas as pd\n",
    "import numpy as np\n",
    "pd.__version__\n",
    "print(dir(pd))"
   ]
  },
  {
   "cell_type": "code",
   "execution_count": 148,
   "id": "e288553e",
   "metadata": {},
   "outputs": [
    {
     "name": "stdout",
     "output_type": "stream",
     "text": [
      "['T', '_AXIS_LEN', '_AXIS_ORDERS', '_AXIS_TO_AXIS_NUMBER', '_HANDLED_TYPES', '__abs__', '__add__', '__and__', '__annotations__', '__array__', '__array_priority__', '__array_ufunc__', '__bool__', '__class__', '__column_consortium_standard__', '__contains__', '__copy__', '__deepcopy__', '__delattr__', '__delitem__', '__dict__', '__dir__', '__divmod__', '__doc__', '__eq__', '__finalize__', '__float__', '__floordiv__', '__format__', '__ge__', '__getattr__', '__getattribute__', '__getitem__', '__getstate__', '__gt__', '__hash__', '__iadd__', '__iand__', '__ifloordiv__', '__imod__', '__imul__', '__init__', '__init_subclass__', '__int__', '__invert__', '__ior__', '__ipow__', '__isub__', '__iter__', '__itruediv__', '__ixor__', '__le__', '__len__', '__lt__', '__matmul__', '__mod__', '__module__', '__mul__', '__ne__', '__neg__', '__new__', '__nonzero__', '__or__', '__pandas_priority__', '__pos__', '__pow__', '__radd__', '__rand__', '__rdivmod__', '__reduce__', '__reduce_ex__', '__repr__', '__rfloordiv__', '__rmatmul__', '__rmod__', '__rmul__', '__ror__', '__round__', '__rpow__', '__rsub__', '__rtruediv__', '__rxor__', '__setattr__', '__setitem__', '__setstate__', '__sizeof__', '__str__', '__sub__', '__subclasshook__', '__truediv__', '__weakref__', '__xor__', '_accessors', '_accum_func', '_agg_examples_doc', '_agg_see_also_doc', '_align_for_op', '_align_frame', '_align_series', '_append', '_arith_method', '_as_manager', '_binop', '_can_hold_na', '_check_inplace_and_allows_duplicate_labels', '_check_is_chained_assignment_possible', '_check_label_or_level_ambiguity', '_check_setitem_copy', '_clear_item_cache', '_clip_with_one_bound', '_clip_with_scalar', '_cmp_method', '_consolidate', '_consolidate_inplace', '_construct_axes_dict', '_construct_result', '_constructor', '_constructor_expanddim', '_constructor_expanddim_from_mgr', '_constructor_from_mgr', '_data', '_deprecate_downcast', '_dir_additions', '_dir_deletions', '_drop_axis', '_drop_labels_or_levels', '_duplicated', '_find_valid_index', '_flex_method', '_from_mgr', '_get_axis', '_get_axis_name', '_get_axis_number', '_get_axis_resolvers', '_get_block_manager_axis', '_get_bool_data', '_get_cacher', '_get_cleaned_column_resolvers', '_get_index_resolvers', '_get_label_or_level_values', '_get_numeric_data', '_get_rows_with_mask', '_get_value', '_get_values_tuple', '_get_with', '_getitem_slice', '_gotitem', '_hidden_attrs', '_indexed_same', '_info_axis', '_info_axis_name', '_info_axis_number', '_init_dict', '_init_mgr', '_inplace_method', '_internal_names', '_internal_names_set', '_is_cached', '_is_copy', '_is_label_or_level_reference', '_is_label_reference', '_is_level_reference', '_is_mixed_type', '_is_view', '_is_view_after_cow_rules', '_ixs', '_logical_func', '_logical_method', '_map_values', '_maybe_update_cacher', '_memory_usage', '_metadata', '_min_count_stat_function', '_needs_reindex_multi', '_pad_or_backfill', '_protect_consolidate', '_reduce', '_references', '_reindex_axes', '_reindex_indexer', '_reindex_multi', '_reindex_with_indexers', '_rename', '_replace_single', '_repr_data_resource_', '_repr_latex_', '_reset_cache', '_reset_cacher', '_set_as_cached', '_set_axis', '_set_axis_name', '_set_axis_nocheck', '_set_is_copy', '_set_labels', '_set_name', '_set_value', '_set_values', '_set_with', '_set_with_engine', '_shift_with_freq', '_slice', '_stat_function', '_stat_function_ddof', '_take_with_is_copy', '_to_latex_via_styler', '_typ', '_update_inplace', '_validate_dtype', '_values', '_where', 'abs', 'add', 'add_prefix', 'add_suffix', 'agg', 'aggregate', 'align', 'all', 'any', 'apply', 'argmax', 'argmin', 'argsort', 'array', 'asfreq', 'asof', 'astype', 'at', 'at_time', 'attrs', 'autocorr', 'axes', 'backfill', 'between', 'between_time', 'bfill', 'bool', 'case_when', 'cat', 'clip', 'combine', 'combine_first', 'compare', 'convert_dtypes', 'copy', 'corr', 'count', 'cov', 'cummax', 'cummin', 'cumprod', 'cumsum', 'describe', 'diff', 'div', 'divide', 'divmod', 'dot', 'drop', 'drop_duplicates', 'droplevel', 'dropna', 'dt', 'dtype', 'dtypes', 'duplicated', 'empty', 'eq', 'equals', 'ewm', 'expanding', 'explode', 'factorize', 'ffill', 'fillna', 'filter', 'first', 'first_valid_index', 'flags', 'floordiv', 'ge', 'get', 'groupby', 'gt', 'hasnans', 'head', 'hist', 'iat', 'idxmax', 'idxmin', 'iloc', 'index', 'infer_objects', 'info', 'interpolate', 'is_monotonic_decreasing', 'is_monotonic_increasing', 'is_unique', 'isin', 'isna', 'isnull', 'item', 'items', 'keys', 'kurt', 'kurtosis', 'last', 'last_valid_index', 'le', 'list', 'loc', 'lt', 'map', 'mask', 'max', 'mean', 'median', 'memory_usage', 'min', 'mod', 'mode', 'mul', 'multiply', 'name', 'nbytes', 'ndim', 'ne', 'nlargest', 'notna', 'notnull', 'nsmallest', 'nunique', 'pad', 'pct_change', 'pipe', 'plot', 'pop', 'pow', 'prod', 'product', 'quantile', 'radd', 'rank', 'ravel', 'rdiv', 'rdivmod', 'reindex', 'reindex_like', 'rename', 'rename_axis', 'reorder_levels', 'repeat', 'replace', 'resample', 'reset_index', 'rfloordiv', 'rmod', 'rmul', 'rolling', 'round', 'rpow', 'rsub', 'rtruediv', 'sample', 'searchsorted', 'sem', 'set_axis', 'set_flags', 'shape', 'shift', 'size', 'skew', 'sort_index', 'sort_values', 'sparse', 'squeeze', 'std', 'str', 'struct', 'sub', 'subtract', 'sum', 'swapaxes', 'swaplevel', 'tail', 'take', 'to_clipboard', 'to_csv', 'to_dict', 'to_excel', 'to_frame', 'to_hdf', 'to_json', 'to_latex', 'to_list', 'to_markdown', 'to_numpy', 'to_period', 'to_pickle', 'to_sql', 'to_string', 'to_timestamp', 'to_xarray', 'tolist', 'transform', 'transpose', 'truediv', 'truncate', 'tz_convert', 'tz_localize', 'unique', 'unstack', 'update', 'value_counts', 'values', 'var', 'view', 'where', 'xs']\n"
     ]
    }
   ],
   "source": [
    "print(dir(pd.Series))"
   ]
  },
  {
   "cell_type": "markdown",
   "id": "acf18f90",
   "metadata": {},
   "source": [
    "A. Data Series \n",
    "- merupakan object untuk menyimpan data dalam bentuk 1D, namun tetap ditampilkan dalam bentuk table"
   ]
  },
  {
   "cell_type": "markdown",
   "id": "19d08887",
   "metadata": {},
   "source": [
    "CREATE DATA SERIES"
   ]
  },
  {
   "cell_type": "code",
   "execution_count": 149,
   "id": "326c2d0e",
   "metadata": {},
   "outputs": [
    {
     "name": "stdout",
     "output_type": "stream",
     "text": [
      "0    15.0\n",
      "1    10.0\n",
      "2    12.0\n",
      "3    25.0\n",
      "dtype: float64\n",
      "[15. 10. 12. 25.]\n",
      "RangeIndex(start=0, stop=4, step=1)\n",
      "float64\n",
      "0    15.0\n",
      "1    10.0\n",
      "dtype: float64\n",
      "<bound method NDFrame.copy of 0    15.0\n",
      "1    10.0\n",
      "2    12.0\n",
      "3    25.0\n",
      "dtype: float64>\n"
     ]
    }
   ],
   "source": [
    "data = pd.Series([15.0,10,12,25])\n",
    "print(data)\n",
    "print(data.values)\n",
    "print(data.index)\n",
    "print(data.dtype)\n",
    "print(data[0:2])\n",
    "print(data.copy)"
   ]
  },
  {
   "cell_type": "markdown",
   "id": "db4bcfc7",
   "metadata": {},
   "source": [
    "MEMBUAT OBJECT DATA SERIES DENGAN MEMANIPULASI INDEXING"
   ]
  },
  {
   "cell_type": "code",
   "execution_count": 150,
   "id": "a54ea63e",
   "metadata": {},
   "outputs": [
    {
     "name": "stdout",
     "output_type": "stream",
     "text": [
      "sby    15\n",
      "sda    10\n",
      "mlg    12\n",
      "jkt    25\n",
      "dtype: int64\n",
      "====================\n",
      "15\n",
      "15\n",
      "15\n"
     ]
    }
   ],
   "source": [
    "data = pd.Series([15,10,12,25], index=['sby', 'sda', 'mlg', 'jkt'])\n",
    "#penamaan index bisa dirubah dan memiliki nama index yang sama\n",
    "print(data)\n",
    "print(\"=\"*20)\n",
    "print(data.values[0]) #ambil data di index ke 0\n",
    "print(data['sby']) #ambil data dengan index bernama sby\n",
    "print(data.sby) #sama seperti line atasnya"
   ]
  },
  {
   "cell_type": "markdown",
   "id": "eb97f0c3",
   "metadata": {},
   "source": [
    "MENGUBAH DICTIONARY KE DATA SERIES "
   ]
  },
  {
   "cell_type": "code",
   "execution_count": 151,
   "id": "dc92d52a",
   "metadata": {},
   "outputs": [
    {
     "name": "stdout",
     "output_type": "stream",
     "text": [
      "{'sby': [15, 10], 'sda': [10, 11], 'mlg': [12, 13, 14], 'jkt': [25, '12']}\n",
      "sby        [15, 10]\n",
      "sda        [10, 11]\n",
      "mlg    [12, 13, 14]\n",
      "jkt        [25, 12]\n",
      "dtype: object\n",
      "object\n"
     ]
    }
   ],
   "source": [
    "#Dictionary identik dengan kurung kurawal\n",
    "dict1 = {\n",
    "    'sby' : [15, 10],\n",
    "    'sda' : [10, 11],\n",
    "    'mlg' : [12, 13, 14],\n",
    "    'jkt' : [25, \"12\"]\n",
    "}\n",
    "print(dict1) #dictionary mirip JSON\n",
    "\n",
    "#dictionary dimasukkan ke pandas\n",
    "data = pd.Series(dict1)\n",
    "print(data)\n",
    "print(data.dtype)"
   ]
  },
  {
   "cell_type": "code",
   "execution_count": 152,
   "id": "21145674",
   "metadata": {},
   "outputs": [
    {
     "name": "stdout",
     "output_type": "stream",
     "text": [
      "sby    15\n",
      "sda    10\n",
      "mlg    12\n",
      "jkt    25\n",
      "dtype: int64 \n",
      "\n",
      "Mengambil data dengan range nama index tertentu\n",
      "sby    15\n",
      "sda    10\n",
      "mlg    12\n",
      "dtype: int64\n",
      "\n",
      "Mengambil data dengan range index tertentu\n",
      "sby    15\n",
      "sda    10\n",
      "dtype: int64\n"
     ]
    }
   ],
   "source": [
    "data = pd.Series([15,10,12,25], index=['sby', 'sda', 'mlg', 'jkt'])\n",
    "print(data, \"\\n\")\n",
    "\n",
    "print(\"Mengambil data dengan range nama index tertentu\")\n",
    "print(data['sby':'mlg'])\n",
    "\n",
    "print()\n",
    "print(\"Mengambil data dengan range index tertentu\")\n",
    "print(data[0:2])"
   ]
  },
  {
   "cell_type": "markdown",
   "id": "fbbd0e0a",
   "metadata": {},
   "source": [
    "B. DATA FRAME\n",
    "- Mirip Data series namun multidimensi"
   ]
  },
  {
   "cell_type": "code",
   "execution_count": 153,
   "id": "23fdf229",
   "metadata": {},
   "outputs": [
    {
     "name": "stdout",
     "output_type": "stream",
     "text": [
      "     populasi\n",
      "sby        10\n",
      "sda        15\n",
      "mlg        12\n",
      "jkt        25\n"
     ]
    }
   ],
   "source": [
    "data = pd.DataFrame([10,15,12,25], columns=['populasi'], index=['sby', 'sda', 'mlg', 'jkt'])\n",
    "print(data)"
   ]
  },
  {
   "cell_type": "code",
   "execution_count": 154,
   "id": "456c52d1",
   "metadata": {},
   "outputs": [
    {
     "name": "stdout",
     "output_type": "stream",
     "text": [
      "     populasi  area\n",
      "sby        10  1000\n",
      "sda        15   750\n",
      "mlg        12   900\n",
      "jkt        25  1500\n",
      "     populasi  area\n",
      "sby        10  1000\n",
      "sda        15   750\n",
      "mlg        12   900\n"
     ]
    }
   ],
   "source": [
    "data = pd.DataFrame([[10, 1000],[15,750],[12,900],[25, 1500]],\n",
    "                    columns=['populasi', 'area'], \n",
    "                    index=['sby', 'sda', 'mlg', 'jkt'])\n",
    "print(data)\n",
    "print(data.iloc[0:3, 0:2]) #col 0 sampai 3 dan row 0 sampai 2"
   ]
  },
  {
   "cell_type": "markdown",
   "id": "24ce2326",
   "metadata": {},
   "source": [
    "SOAL: tampilkan semua data kota untuk kolom area"
   ]
  },
  {
   "cell_type": "code",
   "execution_count": 155,
   "id": "13d3ea67",
   "metadata": {},
   "outputs": [
    {
     "name": "stdout",
     "output_type": "stream",
     "text": [
      "     area\n",
      "sby  1000\n",
      "sda   750\n",
      "mlg   900\n",
      "jkt  1500\n"
     ]
    }
   ],
   "source": [
    "print(data.iloc[:, 1:2])"
   ]
  },
  {
   "cell_type": "markdown",
   "id": "ea470fd4",
   "metadata": {},
   "source": [
    "SOAL: buat kolom baru bernama density yang merupakan perbandingan populasi : area\n",
    "- BUAT KOLOM BARU: list_name['column_name']"
   ]
  },
  {
   "cell_type": "code",
   "execution_count": 156,
   "id": "eebd1abf",
   "metadata": {},
   "outputs": [
    {
     "name": "stdout",
     "output_type": "stream",
     "text": [
      "     populasi  area   density\n",
      "sby        10  1000  0.010000\n",
      "sda        15   750  0.020000\n",
      "mlg        12   900  0.013333\n",
      "jkt        25  1500  0.016667\n"
     ]
    }
   ],
   "source": [
    "data['density'] = data['populasi']/data['area'] #untuk bikin kolom baru langsung assign nama kolomnya\n",
    "print(data)"
   ]
  },
  {
   "cell_type": "markdown",
   "id": "bc336039",
   "metadata": {},
   "source": [
    "SOAL: Tampilkan data yang areanya kurang dari 800"
   ]
  },
  {
   "cell_type": "code",
   "execution_count": 157,
   "id": "c71204a5",
   "metadata": {},
   "outputs": [
    {
     "name": "stdout",
     "output_type": "stream",
     "text": [
      "sby    False\n",
      "sda     True\n",
      "mlg    False\n",
      "jkt    False\n",
      "Name: area, dtype: bool\n"
     ]
    }
   ],
   "source": [
    "areaUnder800 = data.area < 800\n",
    "print(areaUnder800)"
   ]
  },
  {
   "cell_type": "code",
   "execution_count": 158,
   "id": "96b403b6",
   "metadata": {},
   "outputs": [
    {
     "name": "stdout",
     "output_type": "stream",
     "text": [
      "     populasi  area  density\n",
      "sda        15   750     0.02\n"
     ]
    }
   ],
   "source": [
    "#MENGAMBIL DATA SESUAI FILTER DENGAN OUTPUT TRUE\n",
    "data_baru = data[areaUnder800]\n",
    "print(data_baru)"
   ]
  },
  {
   "cell_type": "markdown",
   "id": "348e62a3",
   "metadata": {},
   "source": [
    "SOAL: Tampilkan data yang areanya lebih kecil dari 800 dan lebih besar 600"
   ]
  },
  {
   "cell_type": "code",
   "execution_count": 159,
   "id": "0cfb19d1",
   "metadata": {},
   "outputs": [
    {
     "name": "stdout",
     "output_type": "stream",
     "text": [
      "     populasi  area  density\n",
      "sda        15   750     0.02\n"
     ]
    }
   ],
   "source": [
    "#kadang logical operator bisa menggunakan and atau &\n",
    "areaBetween_600_800 = ((data.area < 800) & (data.area > 600))\n",
    "print(data[areaBetween_600_800])"
   ]
  },
  {
   "cell_type": "code",
   "execution_count": 160,
   "id": "c11b96a8",
   "metadata": {},
   "outputs": [
    {
     "name": "stdout",
     "output_type": "stream",
     "text": [
      "     populasi  area\n",
      "sby        10  1000\n",
      "sda        15   750\n",
      "mlg        12   900\n",
      "jkt        25  1500\n",
      "\n",
      "sby    1000\n",
      "sda     750\n",
      "mlg     900\n",
      "Name: area, dtype: int64\n"
     ]
    }
   ],
   "source": [
    "data = pd.DataFrame([[10, 1000],[15,750],[12,900],[25, 1500]],\n",
    "                    columns=['populasi', 'area'], \n",
    "                    index=['sby', 'sda', 'mlg', 'jkt'])\n",
    "\n",
    "print(data)\n",
    "print()\n",
    "print(data.loc['sby' : 'mlg', 'area'])"
   ]
  },
  {
   "cell_type": "markdown",
   "id": "b9a0a2bd",
   "metadata": {},
   "source": [
    "SOAL: \n",
    "1. Buat dataframe dari dictionary\n",
    "2. Buat dataframe dari list 2D\n",
    "3. Buat dataframe dari 2 data series"
   ]
  },
  {
   "cell_type": "code",
   "execution_count": 161,
   "id": "cc728588",
   "metadata": {},
   "outputs": [
    {
     "name": "stdout",
     "output_type": "stream",
     "text": [
      "   nama  usia\n",
      "0   adi    10\n",
      "1  adi2    12\n"
     ]
    }
   ],
   "source": [
    "#1\n",
    "dict1 = {\n",
    "    'nama' : ['adi', 'adi2'],\n",
    "    'usia' : [10, 12]\n",
    "}\n",
    "\n",
    "data_dict1 = pd.DataFrame(dict1, columns=['nama', 'usia'])\n",
    "print(data_dict1)"
   ]
  },
  {
   "cell_type": "code",
   "execution_count": 162,
   "id": "cc851d77",
   "metadata": {},
   "outputs": [
    {
     "name": "stdout",
     "output_type": "stream",
     "text": [
      "   nama  usia\n",
      "0  adi1    10\n",
      "1  adi2    12\n"
     ]
    }
   ],
   "source": [
    "#2\n",
    "list2d = [['adi1', 10], ['adi2', 12]]\n",
    "data_list2d = pd.DataFrame(list2d, columns=['nama', 'usia'])\n",
    "print(data_list2d)"
   ]
  },
  {
   "cell_type": "code",
   "execution_count": 163,
   "id": "3c649ec5",
   "metadata": {},
   "outputs": [
    {
     "name": "stdout",
     "output_type": "stream",
     "text": [
      "   A  B   C\n",
      "0  1  a   6\n",
      "1  2  b   7\n",
      "2  3  c   8\n",
      "3  4  d   9\n",
      "4  5  e  10\n"
     ]
    }
   ],
   "source": [
    "#3\n",
    "series1 = pd.Series([1,2,3,4,5])\n",
    "series2 = pd.Series(['a', 'b', 'c', 'd', 'e'])\n",
    "series3 = pd.Series([6,7,8,9,10])\n",
    "\n",
    "data = pd.DataFrame({\n",
    "    'A' : series1,\n",
    "    'B' : series2,\n",
    "    'C' : series3\n",
    "})\n",
    "\n",
    "print(data)\n"
   ]
  },
  {
   "cell_type": "markdown",
   "id": "5462be50",
   "metadata": {},
   "source": [
    "C. INDEX"
   ]
  },
  {
   "cell_type": "code",
   "execution_count": 164,
   "id": "3c527d3c",
   "metadata": {},
   "outputs": [
    {
     "name": "stdout",
     "output_type": "stream",
     "text": [
      "Index([3, 5, 7], dtype='int64')\n",
      "Index([1, 2, 3, 5, 7, 9, 11], dtype='int64')\n",
      "Index([1, 9], dtype='int64')\n",
      "Index([1, 2, 9, 11], dtype='int64')\n"
     ]
    }
   ],
   "source": [
    "indA = pd.Index([1,3,5,7,9])\n",
    "indB = pd.Index([2,3,5,7,11])\n",
    "print(indA.intersection(indB)) #irisan\n",
    "print(indA.union(indB)) #gabungan\n",
    "print(indA.difference(indB)) #ada di A tapi tidak ada di B\n",
    "print(indA.symmetric_difference(indB)) #ada di A atau B tapi tidak irisannya"
   ]
  },
  {
   "cell_type": "code",
   "execution_count": 165,
   "id": "c13bf2c6",
   "metadata": {},
   "outputs": [
    {
     "name": "stdout",
     "output_type": "stream",
     "text": [
      "     populasi  area\n",
      "sby        10  1000\n",
      "sda        15   750\n",
      "mlg        12   900\n",
      "jkt        25  1500\n",
      "     populasi  area\n",
      "sby        10  1000\n",
      "jkt        25  1500\n",
      "mlg        12   900\n",
      "     populasi  area\n",
      "sby        10  1000\n",
      "sda        15   750\n",
      "mlg        12   900\n",
      "jkt        25  1500\n"
     ]
    }
   ],
   "source": [
    "data = pd.DataFrame([[10, 1000],[15,750],[12,900],[25, 1500]],\n",
    "                    columns=['populasi', 'area'], \n",
    "                    index=['sby', 'sda', 'mlg', 'jkt'])\n",
    "\n",
    "print(data)\n",
    "print(data.loc[['sby', 'jkt', 'mlg'], :]) #ambil index tertentu saja\n",
    "print(data.loc['sby':'jkt', :]) #ambil index range tertentu saja"
   ]
  },
  {
   "cell_type": "markdown",
   "id": "674d35cb",
   "metadata": {},
   "source": [
    "D. OPERATING ON DATA IN PANDAS"
   ]
  },
  {
   "cell_type": "markdown",
   "id": "96291f63",
   "metadata": {},
   "source": [
    "1. UFUNC"
   ]
  },
  {
   "cell_type": "code",
   "execution_count": 166,
   "id": "ce2e3668",
   "metadata": {},
   "outputs": [
    {
     "name": "stdout",
     "output_type": "stream",
     "text": [
      "0    6\n",
      "1    3\n",
      "2    7\n",
      "3    4\n",
      "dtype: int32\n",
      "5.0\n",
      "4.5\n"
     ]
    }
   ],
   "source": [
    "R = np.random.RandomState(42)\n",
    "s1 = pd.Series(R.randint(0,10, size=4))\n",
    "print(s1)\n",
    "print(np.average(s1))\n",
    "print(np.average(s1[0:2]))"
   ]
  },
  {
   "cell_type": "code",
   "execution_count": 167,
   "id": "992b71d6",
   "metadata": {},
   "outputs": [
    {
     "name": "stdout",
     "output_type": "stream",
     "text": [
      "   a  b  c  d\n",
      "0  6  9  2  6\n",
      "1  7  4  3  7\n",
      "2  7  2  5  4\n",
      "          a         b         c         d\n",
      "0  1.791759  2.197225  0.693147  1.791759\n",
      "1  1.945910  1.386294  1.098612  1.945910\n",
      "2  1.945910  0.693147  1.609438  1.386294\n"
     ]
    }
   ],
   "source": [
    "df = pd.DataFrame(R.randint(0, 10, (3,4)), columns=['a','b','c','d'])\n",
    "print(df)\n",
    "print(np.log(df))"
   ]
  },
  {
   "cell_type": "markdown",
   "id": "427f33ef",
   "metadata": {},
   "source": [
    "2. NaN (Not a Number) && NotNull"
   ]
  },
  {
   "cell_type": "code",
   "execution_count": 168,
   "id": "b5305815",
   "metadata": {},
   "outputs": [
    {
     "name": "stdout",
     "output_type": "stream",
     "text": [
      "Alaska              NaN\n",
      "California    90.413926\n",
      "New York            NaN\n",
      "Texas         38.018740\n",
      "dtype: float64\n",
      "\n",
      "California    90.413926\n",
      "Texas         38.018740\n",
      "dtype: float64\n"
     ]
    }
   ],
   "source": [
    "area = pd.Series(\n",
    "    {'Alaska': 1723337, \n",
    "     'Texas': 695662, \n",
    "     'California': 423967}, name='area')\n",
    "\n",
    "population = pd.Series(\n",
    "    {'California': 38332521, \n",
    "     'Texas': 26448193, \n",
    "     'New York': 19651127}, name='population')\n",
    "\n",
    "data_baru = population/area\n",
    "print(data_baru)\n",
    "\n",
    "print()\n",
    "\n",
    "filter = data_baru.notnull()\n",
    "print(data_baru[filter])"
   ]
  },
  {
   "cell_type": "code",
   "execution_count": 169,
   "id": "4200759c",
   "metadata": {},
   "outputs": [
    {
     "name": "stdout",
     "output_type": "stream",
     "text": [
      "0    NaN\n",
      "1    5.0\n",
      "2    9.0\n",
      "3    NaN\n",
      "dtype: float64\n",
      "\n",
      "0    2.0\n",
      "1    5.0\n",
      "2    9.0\n",
      "3    5.0\n",
      "dtype: float64\n"
     ]
    }
   ],
   "source": [
    "A = pd.Series([2,4,6], index=[0,1,2])\n",
    "B = pd.Series([1,3,5], index=[1,2,3])\n",
    "print(A.add(B))\n",
    "print()\n",
    "print(A.add(B, fill_value=0))"
   ]
  },
  {
   "cell_type": "code",
   "execution_count": null,
   "id": "d6e4113c",
   "metadata": {},
   "outputs": [
    {
     "name": "stdout",
     "output_type": "stream",
     "text": [
      "     0   1  2\n",
      "0  1.0 NaN  2\n",
      "1  2.0 NaN  5\n",
      "2  NaN NaN  6\n",
      "\n",
      "   2\n",
      "0  2\n",
      "1  5\n",
      "2  6\n"
     ]
    }
   ],
   "source": [
    "import pandas as pd\n",
    "import numpy as np\n",
    "df = pd.DataFrame([[1, np.nan, 2], [2, np.nan, 5], \n",
    "\t\t\t\t[np.nan, np.nan, 6]]) \n",
    "\n",
    "print(df)\n",
    "print()\n",
    "print(df.dropna()) # drop baris yang mengandung NaN\n",
    "print()\n",
    "print(df.dropna(axis=0)) #sepanjang kolom ke kanan (outputnya sama seperti df.dropna())\n",
    "print(df.dropna(axis=1, how='all')) #drop kolom yg semua data kolomnya bernilai NaN\n",
    "print(df.dropna(axis=1, how='any')) #drop kolom yg mengandung data bernilai NaN"
   ]
  },
  {
   "cell_type": "code",
   "execution_count": 171,
   "id": "31b1324c",
   "metadata": {},
   "outputs": [
    {
     "name": "stdout",
     "output_type": "stream",
     "text": [
      "    0    1    2\n",
      "0 NaN  NaN  NaN\n",
      "1 NaN  3.0  5.0\n",
      "2 NaN  4.0  6.0\n",
      "3 NaN  4.0  6.0\n"
     ]
    }
   ],
   "source": [
    "df = pd.DataFrame([\n",
    "    [np.nan, np.nan, np.nan], \n",
    "    [np.nan, 3, 5], \n",
    "\t[np.nan, 4, 6], \n",
    "\t[np.nan, 4, 6]]) \n",
    "\n",
    "print(df)"
   ]
  },
  {
   "cell_type": "markdown",
   "id": "dc61c339",
   "metadata": {},
   "source": [
    "SOAL 1: Jika 1 baris semua NaN, maka dihapus"
   ]
  },
  {
   "cell_type": "code",
   "execution_count": 172,
   "id": "1347c453",
   "metadata": {},
   "outputs": [
    {
     "name": "stdout",
     "output_type": "stream",
     "text": [
      "    0    1    2\n",
      "1 NaN  3.0  5.0\n",
      "2 NaN  4.0  6.0\n",
      "3 NaN  4.0  6.0\n"
     ]
    }
   ],
   "source": [
    "print(df.dropna(axis=0, how='all'))"
   ]
  },
  {
   "cell_type": "markdown",
   "id": "226ab851",
   "metadata": {},
   "source": [
    "SOAL 2: Jika 1 Kolom semua NaN, maka dihapus"
   ]
  },
  {
   "cell_type": "code",
   "execution_count": 173,
   "id": "96048de8",
   "metadata": {},
   "outputs": [
    {
     "name": "stdout",
     "output_type": "stream",
     "text": [
      "     1    2\n",
      "0  NaN  NaN\n",
      "1  3.0  5.0\n",
      "2  4.0  6.0\n",
      "3  4.0  6.0\n"
     ]
    }
   ],
   "source": [
    "print(df.dropna(axis=1, how='all'))"
   ]
  },
  {
   "cell_type": "code",
   "execution_count": null,
   "id": "543f25f7",
   "metadata": {},
   "outputs": [
    {
     "ename": "NameError",
     "evalue": "name 'population' is not defined",
     "output_type": "error",
     "traceback": [
      "\u001b[1;31m---------------------------------------------------------------------------\u001b[0m",
      "\u001b[1;31mNameError\u001b[0m                                 Traceback (most recent call last)",
      "Cell \u001b[1;32mIn[12], line 5\u001b[0m\n\u001b[0;32m      1\u001b[0m area_dict \u001b[38;5;241m=\u001b[39m {\u001b[38;5;124m'\u001b[39m\u001b[38;5;124mCalifornia\u001b[39m\u001b[38;5;124m'\u001b[39m: \u001b[38;5;241m423967\u001b[39m, \u001b[38;5;124m'\u001b[39m\u001b[38;5;124mTexas\u001b[39m\u001b[38;5;124m'\u001b[39m: \u001b[38;5;241m695662\u001b[39m, \n\u001b[0;32m      2\u001b[0m \t     \u001b[38;5;124m'\u001b[39m\u001b[38;5;124mNew York\u001b[39m\u001b[38;5;124m'\u001b[39m: \u001b[38;5;241m141297\u001b[39m, \u001b[38;5;124m'\u001b[39m\u001b[38;5;124mFlorida\u001b[39m\u001b[38;5;124m'\u001b[39m: \u001b[38;5;241m170312\u001b[39m,\n\u001b[0;32m      3\u001b[0m \t     \u001b[38;5;124m'\u001b[39m\u001b[38;5;124mIllinois\u001b[39m\u001b[38;5;124m'\u001b[39m: \u001b[38;5;241m149995\u001b[39m}\n\u001b[0;32m      4\u001b[0m area \u001b[38;5;241m=\u001b[39m pd\u001b[38;5;241m.\u001b[39mSeries(area_dict)\n\u001b[1;32m----> 5\u001b[0m states \u001b[38;5;241m=\u001b[39m pd\u001b[38;5;241m.\u001b[39mDataFrame({\u001b[38;5;124m'\u001b[39m\u001b[38;5;124mpopulation\u001b[39m\u001b[38;5;124m'\u001b[39m: population, \u001b[38;5;124m'\u001b[39m\u001b[38;5;124marea\u001b[39m\u001b[38;5;124m'\u001b[39m: area})\n\u001b[0;32m      6\u001b[0m \u001b[38;5;28mprint\u001b[39m(states)\n",
      "\u001b[1;31mNameError\u001b[0m: name 'population' is not defined"
     ]
    }
   ],
   "source": []
  }
 ],
 "metadata": {
  "kernelspec": {
   "display_name": "base",
   "language": "python",
   "name": "python3"
  },
  "language_info": {
   "codemirror_mode": {
    "name": "ipython",
    "version": 3
   },
   "file_extension": ".py",
   "mimetype": "text/x-python",
   "name": "python",
   "nbconvert_exporter": "python",
   "pygments_lexer": "ipython3",
   "version": "3.12.7"
  }
 },
 "nbformat": 4,
 "nbformat_minor": 5
}
