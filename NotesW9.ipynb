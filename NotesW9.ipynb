{
 "cells": [
  {
   "cell_type": "markdown",
   "id": "c9f4d0be",
   "metadata": {},
   "source": [
    "NUMPY PART2"
   ]
  },
  {
   "cell_type": "code",
   "execution_count": 2,
   "id": "8f44ae96",
   "metadata": {},
   "outputs": [
    {
     "name": "stdout",
     "output_type": "stream",
     "text": [
      "ok\n"
     ]
    }
   ],
   "source": [
    "import numpy as np\n",
    "print('ok')"
   ]
  },
  {
   "cell_type": "markdown",
   "id": "a320d136",
   "metadata": {},
   "source": [
    "UFUNCTION"
   ]
  },
  {
   "cell_type": "code",
   "execution_count": 6,
   "id": "4c915f14",
   "metadata": {},
   "outputs": [
    {
     "name": "stdout",
     "output_type": "stream",
     "text": [
      "[20 300 150 60] [64 350 170 112]\n"
     ]
    }
   ],
   "source": [
    "def hitung_volume(x,y,z):\n",
    "    V =x*y*z\n",
    "    L =2*(x*y + y*z +x*z)\n",
    "    return V, L\n",
    "\n",
    "x=[1,3,5,2]\n",
    "y=[10,20,5,10]\n",
    "z=[2,5,6,3]\n",
    "V, L = np.frompyfunc(hitung_volume,3,2)(x,y,z) #ada 3 input dan 2 output\n",
    "print(V,L)"
   ]
  },
  {
   "cell_type": "code",
   "execution_count": 47,
   "id": "54b5b44c",
   "metadata": {},
   "outputs": [
    {
     "name": "stdout",
     "output_type": "stream",
     "text": [
      "[[4 3 0 3]\n",
      " [5 0 2 3]\n",
      " [8 1 3 3]]\n",
      "11\n",
      "3\n"
     ]
    }
   ],
   "source": [
    "# np.random.seed(0) #untuk menghasilkan 1 array yg sama walaupun program di run beberapa kali\n",
    "x = np.random.randint(10, size=(3, 4)) #array 2D\n",
    "print(x) \n",
    "\n",
    "# how many values less than 6?\n",
    "print(np.count_nonzero(x < 6))\n",
    "print(np.count_nonzero(x < 6) and np.count_nonzero(x>3))"
   ]
  },
  {
   "cell_type": "code",
   "execution_count": 34,
   "id": "2da41bf5",
   "metadata": {},
   "outputs": [
    {
     "name": "stdout",
     "output_type": "stream",
     "text": [
      "[[5 0 3 3]\n",
      " [7 9 3 5]\n",
      " [2 4 7 6]]\n",
      "----------\n",
      "54\n",
      "----------\n",
      "[14 13 13 14]\n",
      "----------\n",
      "[11 24 19]\n",
      "----------\n",
      "[11 19]\n",
      "----------\n",
      "[4 2 2]\n",
      "----------\n"
     ]
    }
   ],
   "source": [
    "np.random.seed(0)\n",
    "x = np.random.randint(10, size=(3,4))\n",
    "print(x)\n",
    "print(\"-\"*10)\n",
    "print(np.sum(x)) #menjumlahkan semua data di array x\n",
    "print(\"-\"*10)\n",
    "print(np.sum(x, axis=0)) #menjumlahkan data pada masing-masing kolom/vertical\n",
    "print(\"-\"*10)\n",
    "print(np.sum(x, axis=1)) #menjumlahkan data pada masing-masing row/horizontal\n",
    "print(\"-\"*10)\n",
    "print(np.sum(x[::2], axis=1)) #menjumlahkan data array x pada kolom 0 sampai habis dengan interval 2 secara horizontal\n",
    "print(\"-\"*10)\n",
    "print(np.sum(x<6, axis=1)) #menghitung berapa data yang valuenya kurang dari 6 secara horizontal\n",
    "print(\"-\"*10)"
   ]
  },
  {
   "cell_type": "code",
   "execution_count": 53,
   "id": "3b280779",
   "metadata": {},
   "outputs": [
    {
     "name": "stdout",
     "output_type": "stream",
     "text": [
      "[[5 0 3 3]\n",
      " [7 9 3 5]\n",
      " [2 4 7 6]]\n",
      "True\n",
      "False\n",
      "[False False False]\n",
      "[False]\n",
      "[False False]\n",
      "[ True  True  True]\n",
      "[ True  True False  True]\n",
      "[ True False  True]\n"
     ]
    }
   ],
   "source": [
    "np.random.seed(0)\n",
    "x = np.random.randint(10, size=(3,4))\n",
    "print(x)\n",
    "print(np.any(x>8)) #TRUE/FALSE --> apakah ada data yang nilainya lebih dari 8 pada array x?\n",
    "print(np.all(x>8)) #TRUE/FALSE --> apakah semua data nilainya lebih dari 8 pada array x?\n",
    "print(np.all(x>5, axis=1)) #TRUE/FALSE --> apakah data pada semua row memiliki value di atas 5?\n",
    "print(np.all(x[0:1:1,:]>5, axis=1)) #TRUE/FALSE --> apakah semua data pada baris 0 lebih besar dari 5 secara horizontal?\n",
    "print(np.all(x[0:2:1,:]>5, axis=1)) #TRUE/FALSE --> apakah semua data pada baris 0 dan 1 lebih besar dari 5 secara horizontal?\n",
    "print(np.any((x>3) & (x<6), axis=1)) #TRUE/FALSE --> apakah pada setiap baris ada data yang lebih besar dari 3 dan lebih kecil dari 6?\n",
    "print(np.any(x%2==0, axis=0)) #TRUE/FALSE --> apakah pada setiap kolom ada data genap?\n",
    "print(np.any(x%2==0, axis=1)) #TRUE/FALSE --> apakah pada setiap baris ada data genap?"
   ]
  },
  {
   "cell_type": "markdown",
   "id": "2e84b822",
   "metadata": {},
   "source": [
    "FANCY INDEXING"
   ]
  },
  {
   "cell_type": "code",
   "execution_count": null,
   "id": "16f6ec47",
   "metadata": {},
   "outputs": [
    {
     "name": "stdout",
     "output_type": "stream",
     "text": [
      "[[5 0 3 3]\n",
      " [7 9 3 5]\n",
      " [2 4 7 6]]\n",
      "[3 9 6]\n",
      "[[5 0 3 3]\n",
      " [7 9 3 5]\n",
      " [2 4 7 6]]\n"
     ]
    }
   ],
   "source": [
    "np.random.seed(0)\n",
    "x - np.random.randint(10, size=(3,4))\n",
    "print(x)\n",
    "\n",
    "row = np.array([0,1,2])\n",
    "col = np.array([2,1,3])\n",
    "print(x[row,col]) #ambil data pada array x dengan data berindex [0,2], [1,1], dan[2,3]"
   ]
  },
  {
   "cell_type": "code",
   "execution_count": null,
   "id": "e58e62d6",
   "metadata": {},
   "outputs": [
    {
     "name": "stdout",
     "output_type": "stream",
     "text": [
      "[44 47 64 67 67  9 83 21 36 87]\n",
      "[67 21 67]\n"
     ]
    }
   ],
   "source": [
    "np.random.seed(0)\n",
    "x = np.random.randint(100, size=10)\n",
    "print(x)\n",
    "\n",
    "idx = [3,7,4]\n",
    "print(x[idx]) #ambil data pada array x yang berindex angka pada array idx"
   ]
  },
  {
   "cell_type": "code",
   "execution_count": 64,
   "id": "62f68e55",
   "metadata": {},
   "outputs": [
    {
     "name": "stdout",
     "output_type": "stream",
     "text": [
      "[[5 0 3 3]\n",
      " [7 9 3 5]\n",
      " [2 4 7 6]] \n",
      "\n",
      "[[3 0 3]\n",
      " [3 9 5]\n",
      " [7 4 6]]\n",
      "\n",
      "[3 9 6]\n",
      "\n"
     ]
    }
   ],
   "source": [
    "np.random.seed(0)\n",
    "x = np.random.randint(10, size=(3,4))\n",
    "print(x, \"\\n\")\n",
    "\n",
    "row = np.array([0,1,2])\n",
    "col = np.array([2,1,3])\n",
    "#ambil semua data pada x dengan aturan semua data row dengan index array row, dan colom pada index data array col \n",
    "print(x[row[:,np.newaxis],col]) #np.newaxis untuk mempertahankan row\n",
    "print()\n",
    "print(x[row,col])\n",
    "print()"
   ]
  },
  {
   "cell_type": "code",
   "execution_count": null,
   "id": "33f42775",
   "metadata": {},
   "outputs": [
    {
     "name": "stdout",
     "output_type": "stream",
     "text": [
      "[0 1 2 3 4 5 6 7 8 9]\n",
      "[ 0 99 99  3 99  5  6  7 99  9]\n"
     ]
    }
   ],
   "source": [
    "x = np.arange(10)\n",
    "print(x)\n",
    "idx = np.array([2,1,8,4])\n",
    "x[idx] = 99 #mengganti data-data pada array x dengan index sesuai pada data array idx, dan menggantinya dengan angka 99\n",
    "print(x)"
   ]
  },
  {
   "cell_type": "markdown",
   "id": "eee022a3",
   "metadata": {},
   "source": [
    "Sorting"
   ]
  },
  {
   "cell_type": "code",
   "execution_count": 69,
   "id": "2bd6ce4f",
   "metadata": {},
   "outputs": [
    {
     "name": "stdout",
     "output_type": "stream",
     "text": [
      "[2 1 4 3 5]\n",
      "[1 2 3 4 5]\n",
      "[1, 2, 3, 4, 5]\n",
      "[1 0 3 2 4]\n"
     ]
    }
   ],
   "source": [
    "x = np.array([2,1,4,3,5])\n",
    "print(x)\n",
    "print(np.sort(x)) #sorting pakai numpy\n",
    "print(sorted(x)) #sorting pakai function, hasilnya jadi list\n",
    "i = np.argsort(x) #sorting data dan yang otuputnya adalah hasil sorting dengan indexnya\n",
    "print(i)"
   ]
  },
  {
   "cell_type": "code",
   "execution_count": null,
   "id": "a97cfc8a",
   "metadata": {},
   "outputs": [
    {
     "name": "stdout",
     "output_type": "stream",
     "text": [
      "[[5 0 3 3]\n",
      " [7 9 3 5]\n",
      " [2 4 7 6]] \n",
      "\n",
      "[[0 3 3 5]\n",
      " [3 5 7 9]\n",
      " [2 4 6 7]] \n",
      "\n"
     ]
    }
   ],
   "source": [
    "np.random.seed(0)\n",
    "x = np.random.randint(10, size=(3,4))\n",
    "print(x,\"\\n\")\n",
    "print(np.sort(x, axis=1),\"\\n\") #urutkan data tiap baris"
   ]
  },
  {
   "cell_type": "markdown",
   "id": "6e9ce2b6",
   "metadata": {},
   "source": [
    "PARTITION"
   ]
  },
  {
   "cell_type": "code",
   "execution_count": 75,
   "id": "6fffc6c5",
   "metadata": {},
   "outputs": [
    {
     "name": "stdout",
     "output_type": "stream",
     "text": [
      "[2 1 3 4 6 5 7]\n",
      "[2 1 3 4 5 6 7]\n",
      "[2 1 3 4 5 6 7]\n"
     ]
    }
   ],
   "source": [
    "x = np.array([7,2,3,1,6,5,4])\n",
    "print(np.partition(x,3))\n",
    "print(np.partition(x,4))\n",
    "print(np.partition(x,5))"
   ]
  },
  {
   "cell_type": "markdown",
   "id": "bb01995b",
   "metadata": {},
   "source": [
    "SEARCHING\n",
    "- mencari data pada suatu array"
   ]
  },
  {
   "cell_type": "code",
   "execution_count": 78,
   "id": "6a88423d",
   "metadata": {},
   "outputs": [
    {
     "name": "stdout",
     "output_type": "stream",
     "text": [
      "[1 2 3 4 5 4 4]\n",
      "(array([3, 5, 6], dtype=int64),)\n",
      "(array([0], dtype=int64),)\n"
     ]
    }
   ],
   "source": [
    "a = np.array([1, 2, 3, 4, 5, 4, 4])\n",
    "print(a)\n",
    "x = np.where(a==4)\n",
    "print(x)\n",
    "x = np.where(a==1)\n",
    "print(x)"
   ]
  },
  {
   "cell_type": "code",
   "execution_count": null,
   "id": "a13f5346",
   "metadata": {},
   "outputs": [
    {
     "name": "stdout",
     "output_type": "stream",
     "text": [
      "[ 2  7  9 12 12]\n",
      "2\n",
      "3\n",
      "[0 1 1 3]\n",
      "[41 43]\n"
     ]
    }
   ],
   "source": [
    "a = np.array([2,7,9,12,12])\n",
    "print(a)\n",
    "print(np.searchsorted(a,8)) #8 disisipkan ada index 2 agar array tetap tersorting, lalu print index tempatnya\n",
    "print(np.searchsorted(a,10, side=\"right\"))\n",
    "print(np.searchsorted(a, [2,4,6,11]))\n",
    "\n",
    "arr = np.array([41, 42, 43, 44])\n",
    "x = arr[[True, False, True, False]]\n",
    "print(x) # Output: [41 43]"
   ]
  },
  {
   "cell_type": "markdown",
   "id": "2175782e",
   "metadata": {},
   "source": [
    "FILTERING"
   ]
  },
  {
   "cell_type": "code",
   "execution_count": 82,
   "id": "9cb1cbb7",
   "metadata": {},
   "outputs": [
    {
     "name": "stdout",
     "output_type": "stream",
     "text": [
      "[ True False False  True  True]\n",
      "[ 2 12 12]\n"
     ]
    }
   ],
   "source": [
    "a = np.array([2,7,9,12,12])\n",
    "filter1 = a%2==0\n",
    "print(filter1)\n",
    "b = a[filter1]\n",
    "print(b)"
   ]
  },
  {
   "cell_type": "markdown",
   "id": "2ece0df0",
   "metadata": {},
   "source": [
    "LATIHAN SOAL\n",
    "1. Buat Numpy 2D, MANUAL, angka bebas\n",
    "2. Buat Numpy 2D, OTOMATIS dengan range 1-20 dan ukuran 4,5"
   ]
  },
  {
   "cell_type": "code",
   "execution_count": 83,
   "id": "f2e60904",
   "metadata": {},
   "outputs": [
    {
     "name": "stdout",
     "output_type": "stream",
     "text": [
      "[[1 2 3 4 5]\n",
      " [1 2 3 4 5]\n",
      " [1 2 3 4 5]]\n",
      "[[13  2  7  8 15]\n",
      " [18  6 14  9 10]\n",
      " [20 17 20  6 16]\n",
      " [16  1 19  4 18]]\n"
     ]
    }
   ],
   "source": [
    "manual = np.array([[1,2,3,4,5],[1,2,3,4,5],[1,2,3,4,5]])\n",
    "print(manual)\n",
    "\n",
    "oto = np.random.randint(1,21, size=(4,5))\n",
    "print(oto)"
   ]
  },
  {
   "cell_type": "markdown",
   "id": "6a5c01bd",
   "metadata": {},
   "source": [
    "SOAL1: Angka ganjil diubah menjadi 1, angka genap diubah menjadi 2"
   ]
  },
  {
   "cell_type": "code",
   "execution_count": 86,
   "id": "321866a8",
   "metadata": {},
   "outputs": [
    {
     "name": "stdout",
     "output_type": "stream",
     "text": [
      "[[13 16  1  4  4]\n",
      " [ 8 10 20 19  5]\n",
      " [ 7 13  2  7  8]\n",
      " [15 18  6 14  9]]\n",
      "[[1 0 1 0 0]\n",
      " [0 0 0 1 1]\n",
      " [1 1 0 1 0]\n",
      " [1 0 0 0 1]]\n"
     ]
    }
   ],
   "source": [
    "np.random.seed(0)\n",
    "oto = np.random.randint(1,21, size=(4,5))\n",
    "print(oto)\n",
    "\n",
    "filterGanjil = oto%2!=0\n",
    "filterGenap = oto%2==0\n",
    "oto[filterGanjil] = 1\n",
    "oto[filterGenap] = 0\n",
    "print(oto)"
   ]
  },
  {
   "cell_type": "markdown",
   "id": "a071098f",
   "metadata": {},
   "source": [
    "SOAL2: mengubah angka pada kolom terakhir menjadi -1"
   ]
  },
  {
   "cell_type": "code",
   "execution_count": 87,
   "id": "4cfa7547",
   "metadata": {},
   "outputs": [
    {
     "name": "stdout",
     "output_type": "stream",
     "text": [
      "[[13 16  1  4  4]\n",
      " [ 8 10 20 19  5]\n",
      " [ 7 13  2  7  8]\n",
      " [15 18  6 14  9]]\n"
     ]
    }
   ],
   "source": [
    "np.random.seed(0)\n",
    "oto = np.random.randint(1,21, size=(4,5))\n",
    "print(oto)"
   ]
  },
  {
   "cell_type": "markdown",
   "id": "ba6c66e5",
   "metadata": {},
   "source": [
    "SOAL3: Ubah array 2d ini sehingga setiap value pada sepanjang kolom dibaagi dengan nilai maksimalnya"
   ]
  },
  {
   "cell_type": "code",
   "execution_count": 101,
   "id": "9f08f811",
   "metadata": {},
   "outputs": [
    {
     "name": "stdout",
     "output_type": "stream",
     "text": [
      "[[13 16  1  4  4]\n",
      " [ 8 10 20 19  5]\n",
      " [ 7 13  2  7  8]\n",
      " [15 18  6 14  9]]\n",
      "[[16]\n",
      " [20]\n",
      " [13]\n",
      " [18]]\n",
      "[[0.8125     1.         0.0625     0.25       0.25      ]\n",
      " [0.4        0.5        1.         0.95       0.25      ]\n",
      " [0.53846154 1.         0.15384615 0.53846154 0.61538462]\n",
      " [0.83333333 1.         0.33333333 0.77777778 0.5       ]]\n"
     ]
    }
   ],
   "source": [
    "np.random.seed(0)\n",
    "oto = np.random.randint(1,21, size=(4,5))\n",
    "print(oto)\n",
    "\n",
    "max = np.max(oto, axis=1) #mencari nilai max pada setiap baris, dengan bentuk matrix baris\n",
    "max = max.reshape(4,1) #menghubah nilai maksimum menjadi bentuk matrix olom\n",
    "print(max)\n",
    "oto1 = oto/max\n",
    "\n",
    "print(oto1)"
   ]
  },
  {
   "cell_type": "markdown",
   "id": "5cf6579e",
   "metadata": {},
   "source": [
    "SOAL4: Sepanjang kolom, yang minimum diubah menjadi angka 0, yang maximal diubah menjadi angka1, yang lain menyesuaikan\n",
    "\n",
    "NOTED: proses ini dinamakan normalisasi fitur"
   ]
  },
  {
   "cell_type": "code",
   "execution_count": 117,
   "id": "d84d6938",
   "metadata": {},
   "outputs": [
    {
     "name": "stdout",
     "output_type": "stream",
     "text": [
      "[[13 16  1  4  4]\n",
      " [ 8 10 20 19  5]\n",
      " [ 7 13  2  7  8]\n",
      " [15 18  6 14  9]]\n",
      "[[1]\n",
      " [5]\n",
      " [2]\n",
      " [6]]\n",
      "[[16]\n",
      " [20]\n",
      " [13]\n",
      " [18]]\n",
      "[[0.8        1.         0.         0.2        0.2       ]\n",
      " [0.2        0.33333333 1.         0.93333333 0.        ]\n",
      " [0.45454545 1.         0.         0.45454545 0.54545455]\n",
      " [0.75       1.         0.         0.66666667 0.25      ]]\n"
     ]
    }
   ],
   "source": [
    "np.random.seed(0)\n",
    "oto = np.random.randint(1,21, size=(4,5))\n",
    "print(oto)\n",
    "\n",
    "min = np.min(oto, axis=1).reshape(4,1)\n",
    "print(min)\n",
    "\n",
    "max = np.max(oto, axis=1).reshape(4,1)\n",
    "print(max)\n",
    "\n",
    "new_data = ((oto-min)*(1-0)/(max-min)) + 0\n",
    "print(new_data)"
   ]
  }
 ],
 "metadata": {
  "kernelspec": {
   "display_name": "base",
   "language": "python",
   "name": "python3"
  },
  "language_info": {
   "codemirror_mode": {
    "name": "ipython",
    "version": 3
   },
   "file_extension": ".py",
   "mimetype": "text/x-python",
   "name": "python",
   "nbconvert_exporter": "python",
   "pygments_lexer": "ipython3",
   "version": "3.12.7"
  }
 },
 "nbformat": 4,
 "nbformat_minor": 5
}
