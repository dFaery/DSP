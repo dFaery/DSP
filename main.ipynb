{
 "cells": [
  {
   "cell_type": "markdown",
   "id": "a2b08078",
   "metadata": {},
   "source": [
    "WEEK 8: NUMPY"
   ]
  },
  {
   "cell_type": "code",
   "execution_count": null,
   "id": "409b21c9",
   "metadata": {},
   "outputs": [
    {
     "name": "stdout",
     "output_type": "stream",
     "text": [
      "ok\n"
     ]
    }
   ],
   "source": [
    "import numpy as np"
   ]
  },
  {
   "cell_type": "markdown",
   "id": "93ecbf53",
   "metadata": {},
   "source": [
    "RANDOM METHOD USING NUMPY"
   ]
  },
  {
   "cell_type": "code",
   "execution_count": null,
   "id": "d232afb6",
   "metadata": {},
   "outputs": [],
   "source": [
    "x1 = np.random.randint(10, size=6)\n",
    "x2 = np.random.randint(10, size=(3,4))\n",
    "x3 = np.random.randint(10, size=(3,4,5))\n",
    "print(x1)\n",
    "print(x2)\n",
    "print(x3)"
   ]
  },
  {
   "cell_type": "markdown",
   "id": "ba3ff17b",
   "metadata": {},
   "source": [
    "ARRAY 3D"
   ]
  },
  {
   "cell_type": "code",
   "execution_count": 2,
   "id": "5b216f03",
   "metadata": {},
   "outputs": [
    {
     "name": "stdout",
     "output_type": "stream",
     "text": [
      "1000\n"
     ]
    }
   ],
   "source": [
    "A= [\n",
    "    [[12,-1,10,1,1],[20,0,-2,4,16],[20,-10,10,20,60]],\n",
    "    [[12,-1,10,1,1],[20,0,-2,4,16],[20,-10,1000,20,60]],\n",
    "    [[12,-1,10,1,1],[20,0,-2,4,16],[20,-10,10,20,60]]\n",
    "    ]\n",
    "\n",
    "# Akses angka 1000\n",
    "print(A[1][2][2])"
   ]
  },
  {
   "cell_type": "code",
   "execution_count": 5,
   "id": "c6309a07",
   "metadata": {},
   "outputs": [
    {
     "name": "stdout",
     "output_type": "stream",
     "text": [
      "[2, -1, 0, 100, 6]\n",
      "<class 'list'>\n",
      "[  2  -1   0 100   6]\n",
      "<class 'numpy.ndarray'>\n"
     ]
    }
   ],
   "source": [
    "A = [2,-1,0,100,6]\n",
    "print(A)\n",
    "print(type(A))\n",
    "\n",
    "A = np.array(A)\n",
    "print(A)\n",
    "print(type(A))"
   ]
  },
  {
   "cell_type": "code",
   "execution_count": 37,
   "id": "2559688b",
   "metadata": {},
   "outputs": [
    {
     "name": "stdout",
     "output_type": "stream",
     "text": [
      "([12, -1, 10, 1, 1], [20, 0, -2, 4, 16], [20, -10, 10, 20, 60]) \n",
      "\n",
      "[[ 12  -1  10   1   1]\n",
      " [ 20   0  -2   4  16]\n",
      " [ 20 -10  10  20  60]] \n",
      "\n",
      "[[  0  -2   4]\n",
      " [-10  10  20]] \n",
      "\n",
      "[[  0  -2   4]\n",
      " [-10  10  20]] \n",
      "\n",
      "[[  1   1  10  -1]\n",
      " [ 16   4  -2   0]\n",
      " [ 60  20  10 -10]] \n",
      "\n",
      "[[ 12  -1  10   1   1]\n",
      " [ 20   0  -2   4   1]\n",
      " [ 20 -10  10  20   1]]\n",
      "<class 'numpy.ndarray'>\n",
      "int32\n",
      "row:  3\n",
      "col:  5\n",
      "4\n",
      "Total byte yang digunakan array A: 60\n"
     ]
    }
   ],
   "source": [
    "A = [12,-1,10,1,1],[20,0,-2,4,16],[20,-10,10,20,60]\n",
    "print(A, \"\\n\")\n",
    "\n",
    "# array menggunakan numpy\n",
    "A = np.array(A)\n",
    "print(A, \"\\n\")\n",
    "\n",
    "# row index 1-2, column index 1-3\n",
    "b = A[1:3, 1:4]\n",
    "print(b,\"\\n\")\n",
    "\n",
    "# row index 1-akhir, column index 1-3\n",
    "b = A[1:, 1:4]\n",
    "print(b,\"\\n\")\n",
    "\n",
    "# semua row, column index 1-4 terbalik\n",
    "c = A[:, -1:-5:-1]\n",
    "print(c,\"\\n\")\n",
    "\n",
    "# semua row, kolom terakhir = 1\n",
    "A[:, -1]=1\n",
    "print(A)\n",
    "print(type(A))\n",
    "print(A.dtype)\n",
    "print(\"row: \", A.shape[0])\n",
    "print(\"col: \", A.shape[1])\n",
    "print(A.itemsize) #1 int butuh 4 byte\n",
    "print(\"Total byte yang digunakan array A:\",A.nbytes) #melihat total byte yang digunakan di memory"
   ]
  },
  {
   "cell_type": "markdown",
   "id": "2aad99f4",
   "metadata": {},
   "source": [
    "ARANGE dan RESHAPE"
   ]
  },
  {
   "cell_type": "code",
   "execution_count": 42,
   "id": "53f19dbd",
   "metadata": {},
   "outputs": [
    {
     "name": "stdout",
     "output_type": "stream",
     "text": [
      "[ 1  2  3  4  5  6  7  8  9 10 11 12 13 14 15 16 17 18 19 20 21 22 23 24\n",
      " 25 26 27 28 29 30 31 32 33 34 35 36 37 38 39 40 41 42 43 44 45 46 47 48\n",
      " 49 50 51 52 53 54 55 56 57 58 59 60 61 62 63 64]\n",
      "[[ 1  2  3  4  5  6  7  8]\n",
      " [ 9 10 11 12 13 14 15 16]\n",
      " [17 18 19 20 21 22 23 24]\n",
      " [25 26 27 28 29 30 31 32]\n",
      " [33 34 35 36 37 38 39 40]\n",
      " [41 42 43 44 45 46 47 48]\n",
      " [49 50 51 52 53 54 55 56]\n",
      " [57 58 59 60 61 62 63 64]]\n"
     ]
    }
   ],
   "source": [
    "A=np.arange(1,65)\n",
    "print(A)\n",
    "A = A.reshape([8,8]) #reshape harus sesuai jumlah datanya\n",
    "print(A)"
   ]
  },
  {
   "cell_type": "code",
   "execution_count": 67,
   "id": "c76b1e25",
   "metadata": {},
   "outputs": [
    {
     "name": "stdout",
     "output_type": "stream",
     "text": [
      "[[ 5 10 15 20]\n",
      " [25 30 35 40]\n",
      " [45 50 55 60]] \n",
      "\n",
      "[[ 5 10 15 20]\n",
      " [25 30 35 40]\n",
      " [45 50 55 60]] \n",
      "\n"
     ]
    }
   ],
   "source": [
    "A = np.arange(5,61,5).reshape([3,4])\n",
    "print(A, \"\\n\")\n",
    "B = np.arange(5,61,5).reshape([3,4])\n",
    "print(B, \"\\n\")\n",
    "# A[:, -1] = 1\n",
    "# print(A, \"\\n\")"
   ]
  },
  {
   "cell_type": "markdown",
   "id": "aaa1c6a4",
   "metadata": {},
   "source": [
    "CONCATENATE"
   ]
  },
  {
   "cell_type": "code",
   "execution_count": 70,
   "id": "d41169bf",
   "metadata": {},
   "outputs": [
    {
     "name": "stdout",
     "output_type": "stream",
     "text": [
      "[[ 5 10 15 20]\n",
      " [25 30 35 40]\n",
      " [45 50 55 60]\n",
      " [ 5 10 15 20]\n",
      " [25 30 35 40]\n",
      " [45 50 55 60]] \n",
      "\n",
      "[[ 5 10 15 20  5 10 15 20]\n",
      " [25 30 35 40 25 30 35 40]\n",
      " [45 50 55 60 45 50 55 60]] \n",
      "\n"
     ]
    }
   ],
   "source": [
    "x = np.concatenate([A,B])\n",
    "print(x, \"\\n\")\n",
    "\n",
    "x=np.concatenate([A,B], axis=1)\n",
    "print(x, \"\\n\")\n"
   ]
  },
  {
   "cell_type": "code",
   "execution_count": 60,
   "id": "5eea1c9a",
   "metadata": {},
   "outputs": [
    {
     "name": "stdout",
     "output_type": "stream",
     "text": [
      "[[ 5 10 15 20]\n",
      " [25 30 35 40]\n",
      " [45 50 55 60]\n",
      " [ 5 10 15 20]\n",
      " [25 30 35 40]\n",
      " [45 50 55 60]] \n",
      "\n",
      "[[ 5 10 15 20  5 10 15 20]\n",
      " [25 30 35 40 25 30 35 40]\n",
      " [45 50 55 60 45 50 55 60]] \n",
      "\n",
      "[[[ 5  5]\n",
      "  [10 10]\n",
      "  [15 15]\n",
      "  [20 20]]\n",
      "\n",
      " [[25 25]\n",
      "  [30 30]\n",
      "  [35 35]\n",
      "  [40 40]]\n",
      "\n",
      " [[45 45]\n",
      "  [50 50]\n",
      "  [55 55]\n",
      "  [60 60]]] \n",
      "\n"
     ]
    }
   ],
   "source": [
    "C = np.vstack([A,B])\n",
    "D = np.hstack([A,B])\n",
    "E = np.dstack([A,B])\n",
    "print(C,\"\\n\")\n",
    "print(D,\"\\n\")\n",
    "print(E,\"\\n\")"
   ]
  },
  {
   "cell_type": "markdown",
   "id": "b53a0545",
   "metadata": {},
   "source": [
    "SPLIT"
   ]
  },
  {
   "cell_type": "code",
   "execution_count": 65,
   "id": "a685e3c9",
   "metadata": {},
   "outputs": [
    {
     "name": "stdout",
     "output_type": "stream",
     "text": [
      "[1, 2, 3, 99, 999, 3, 2, 1]\n",
      "[1 2 3] [ 99 999] [3 2 1]\n"
     ]
    }
   ],
   "source": [
    "A = [1,2,3,99,999,3,2,1]\n",
    "print(A)\n",
    "A1,A2,A3 = np.split(A, [3,5]) #split pada index 3 dan index 5\n",
    "print(A1, A2, A3)"
   ]
  },
  {
   "cell_type": "code",
   "execution_count": null,
   "id": "6a9a335e",
   "metadata": {},
   "outputs": [
    {
     "name": "stdout",
     "output_type": "stream",
     "text": [
      "[[ 0  1  2  3]\n",
      " [ 4  5  6  7]\n",
      " [ 8  9 10 11]\n",
      " [12 13 14 15]] \n",
      "\n",
      "[[0 1 2 3]\n",
      " [4 5 6 7]] \n",
      "\n",
      "[[ 8  9 10 11]\n",
      " [12 13 14 15]] \n",
      "\n",
      "[[ 0  1]\n",
      " [ 4  5]\n",
      " [ 8  9]\n",
      " [12 13]] \n",
      "\n",
      "[[ 2  3]\n",
      " [ 6  7]\n",
      " [10 11]\n",
      " [14 15]] \n",
      "\n"
     ]
    }
   ],
   "source": [
    "A = np.arange(16).reshape(4,4)\n",
    "print(A, \"\\n\")\n",
    "upper, lower = np.vsplit(A,[2]) #displit menjadi 2 secara vertical\n",
    "print(upper,\"\\n\")\n",
    "print(lower,\"\\n\")\n",
    "\n",
    "left, right = np.hsplit(A, [2]) #displit menjadi 2 secara horizontal\n",
    "print(left, \"\\n\")\n",
    "print(right, \"\\n\")"
   ]
  },
  {
   "cell_type": "markdown",
   "id": "18181fe3",
   "metadata": {},
   "source": [
    "UFuncs"
   ]
  },
  {
   "cell_type": "code",
   "execution_count": 85,
   "id": "e079ecdb",
   "metadata": {},
   "outputs": [
    {
     "name": "stdout",
     "output_type": "stream",
     "text": [
      "[ 0.          0.20408163  0.40816327  0.6122449   0.81632653  1.02040816\n",
      "  1.2244898   1.42857143  1.63265306  1.83673469  2.04081633  2.24489796\n",
      "  2.44897959  2.65306122  2.85714286  3.06122449  3.26530612  3.46938776\n",
      "  3.67346939  3.87755102  4.08163265  4.28571429  4.48979592  4.69387755\n",
      "  4.89795918  5.10204082  5.30612245  5.51020408  5.71428571  5.91836735\n",
      "  6.12244898  6.32653061  6.53061224  6.73469388  6.93877551  7.14285714\n",
      "  7.34693878  7.55102041  7.75510204  7.95918367  8.16326531  8.36734694\n",
      "  8.57142857  8.7755102   8.97959184  9.18367347  9.3877551   9.59183673\n",
      "  9.79591837 10.        ]\n",
      "(50,) \n",
      "\n",
      "[ 1.          1.20408163  1.40816327  1.6122449   1.81632653  2.02040816\n",
      "  2.2244898   2.42857143  2.63265306  2.83673469  3.04081633  3.24489796\n",
      "  3.44897959  3.65306122  3.85714286  4.06122449  4.26530612  4.46938776\n",
      "  4.67346939  4.87755102  5.08163265  5.28571429  5.48979592  5.69387755\n",
      "  5.89795918  6.10204082  6.30612245  6.51020408  6.71428571  6.91836735\n",
      "  7.12244898  7.32653061  7.53061224  7.73469388  7.93877551  8.14285714\n",
      "  8.34693878  8.55102041  8.75510204  8.95918367  9.16326531  9.36734694\n",
      "  9.57142857  9.7755102   9.97959184 10.18367347 10.3877551  10.59183673\n",
      " 10.79591837 11.        ] \n",
      "\n",
      "[ 0.84147098  0.93351033  0.98680437  0.99914113  0.97000858  0.90061587\n",
      "  0.79384314  0.65412197  0.48725151  0.30015769  0.10060584 -0.10312166\n",
      " -0.30256909 -0.48945841 -0.65603277 -0.79537853 -0.90171213 -0.9706202\n",
      " -0.99924273 -0.98639173 -0.93260058 -0.84010188 -0.71273479 -0.55578568\n",
      " -0.3757687  -0.18015546  0.02293513  0.2250738   0.41787078  0.59332406\n",
      "  0.74415145  0.86409286  0.94817013  0.99289365  0.99640715  0.95856482\n",
      "  0.8809373   0.76674651  0.62073193  0.44895391  0.25854207  0.05739946\n",
      " -0.14612552 -0.34358556 -0.5267851  -0.68812045 -0.82089539 -0.91959909\n",
      " -0.98013488 -0.99999021] \n",
      "\n"
     ]
    }
   ],
   "source": [
    "X = np.linspace(0,10,50) #generate angka dari 0-10 berjumlah 50 angka decimal\n",
    "print(X)\n",
    "print(X.shape, \"\\n\")\n",
    "\n",
    "#semua data ditambah 1\n",
    "X+=1\n",
    "print(X, \"\\n\")\n",
    "\n",
    "Y = np.sin(X)\n",
    "print(Y, \"\\n\")"
   ]
  }
 ],
 "metadata": {
  "kernelspec": {
   "display_name": "base",
   "language": "python",
   "name": "python3"
  },
  "language_info": {
   "codemirror_mode": {
    "name": "ipython",
    "version": 3
   },
   "file_extension": ".py",
   "mimetype": "text/x-python",
   "name": "python",
   "nbconvert_exporter": "python",
   "pygments_lexer": "ipython3",
   "version": "3.12.7"
  }
 },
 "nbformat": 4,
 "nbformat_minor": 5
}
